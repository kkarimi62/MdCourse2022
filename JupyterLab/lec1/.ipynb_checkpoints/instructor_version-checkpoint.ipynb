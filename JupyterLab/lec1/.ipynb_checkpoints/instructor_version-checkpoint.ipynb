{
 "cells": [
  {
   "cell_type": "markdown",
   "id": "8cdbef30",
   "metadata": {},
   "source": [
    "# Lecture 1\n",
    "* simple calculation for 12-6 Lennard-Jones potential"
   ]
  },
  {
   "cell_type": "code",
   "execution_count": 2,
   "id": "a95e4dd5",
   "metadata": {},
   "outputs": [],
   "source": [
    "#--------------------------------\n",
    "#--- import system libraries\n",
    "#--------------------------------\n",
    "\n",
    "import numpy as np\n",
    "import matplotlib.pylab as plt\n",
    "import matplotlib\n",
    "import imp\n",
    "#--- user defined\n",
    "from utilFuncs import * \n",
    "#imp.reload(utilFuncs)\n",
    "\n",
    "#--- figure settings\n",
    "matplotlib.rcParams['text.usetex'] = True #--- comment tex stuff!"
   ]
  },
  {
   "cell_type": "markdown",
   "id": "d16275ca",
   "metadata": {},
   "source": [
    "* plot LJ potential"
   ]
  },
  {
   "cell_type": "code",
   "execution_count": 3,
   "id": "cca480f4",
   "metadata": {},
   "outputs": [
    {
     "data": {
      "image/png": "[encoded data removed]",
      "text/plain": [
       "<Figure size 288x288 with 1 Axes>"
      ]
     },
     "metadata": {
      "needs_background": "light"
     },
     "output_type": "display_data"
    },
    {
     "data": {
      "text/plain": [
       "<AxesSubplot:xlabel='$r$', ylabel='$E^{LJ}$'>"
      ]
     },
     "execution_count": 3,
     "metadata": {},
     "output_type": "execute_result"
    }
   ],
   "source": [
    "def ljPotential(rij,sigma,epsilon):\n",
    "    '''\n",
    "    12-6 lj potential\n",
    "    '''\n",
    "    assert sigma != 0.0, 'sigma = 0.0!'\n",
    "    #--- non-dimensionalize r\n",
    "    rinv = sigma / rij\n",
    "    \n",
    "    rsq = rinv * rinv\n",
    "    r6 = rsq * rsq * rsq\n",
    "    r12 = r6 * r6\n",
    "    \n",
    "    return 4.0*epsilon*(r12 - r6)\n",
    "\n",
    "\n",
    "#--- assign sigma and epsilon\n",
    "sigma = 1.0\n",
    "epsilon = 1.0\n",
    "\n",
    "#--- distance\n",
    "r=np.linspace(0.1,2.5,100)\n",
    "\n",
    "\n",
    "#--- lj potential\n",
    "phi = ljPotential(r,sigma,epsilon)\n",
    "\n",
    "PltErr(r,phi,\n",
    "      xlim=(0,2.5), #--- range in x\n",
    "      ylim=(-2,2), #--- range in y\n",
    "      attrs={'fmt':'-'}, #--- solid line\n",
    "      xstr='$r$', #--- x-axis label\n",
    "      ystr='$E^{LJ}$', #--- y-axis label\n",
    "      )"
   ]
  },
  {
   "cell_type": "markdown",
   "id": "120daf1b",
   "metadata": {},
   "source": [
    "# Q1\n",
    "* modify the above code to include the repulsive part of the potential only\n",
    "* plot the repulsive component"
   ]
  },
  {
   "cell_type": "markdown",
   "id": "28c2e31b",
   "metadata": {},
   "source": [
    "# Q2\n",
    "* redo the above part for the attractive tail."
   ]
  },
  {
   "cell_type": "code",
   "execution_count": 4,
   "id": "2790f999",
   "metadata": {},
   "outputs": [
    {
     "data": {
      "image/png": "[encoded data removed]",
      "text/plain": [
       "<Figure size 288x288 with 1 Axes>"
      ]
     },
     "metadata": {
      "needs_background": "light"
     },
     "output_type": "display_data"
    },
    {
     "data": {
      "text/plain": [
       "<AxesSubplot:xlabel='$r$', ylabel='$E^{LJ}$'>"
      ]
     },
     "execution_count": 4,
     "metadata": {},
     "output_type": "execute_result"
    }
   ],
   "source": [
    "def ljPotentialRepulsive(rij,sigma,epsilon):\n",
    "    '''\n",
    "    12-6 lj potential: repulsive\n",
    "    '''\n",
    "    assert sigma != 0.0, 'sigma = 0.0!'\n",
    "    #--- non-dimensionalize r\n",
    "    rinv = sigma / rij\n",
    "    \n",
    "    rsq = rinv * rinv\n",
    "    r6 = rsq * rsq * rsq\n",
    "    r12 = r6 * r6\n",
    "    \n",
    "    return 4.0*epsilon*(r12)\n",
    "\n",
    "def ljPotentialAttractive(rij,sigma,epsilon):\n",
    "    '''\n",
    "    12-6 lj potential: attractive tail\n",
    "    '''\n",
    "    assert sigma != 0.0, 'sigma = 0.0!'\n",
    "    #--- non-dimensionalize r\n",
    "    rinv = sigma / rij\n",
    "    \n",
    "    rsq = rinv * rinv\n",
    "    r6 = rsq * rsq * rsq\n",
    "    r12 = r6 * r6\n",
    "    \n",
    "    return 4.0*epsilon*(-r6)\n",
    "\n",
    "\n",
    "#--- lj potential: repulsive part\n",
    "PhiRepul = ljPotentialRepulsive(r,sigma,epsilon)\n",
    "\n",
    "#--- lj potential: repulsive part\n",
    "PhiAttr = ljPotentialAttractive(r,sigma,epsilon)\n",
    "\n",
    "\n",
    "#--- plot\n",
    "ax = PltErr(r,phi, \n",
    "        attrs={'fmt':'-','label':'$lj$'},\n",
    "       Plot = False,\n",
    "        \n",
    "      )\n",
    "\n",
    "ax = PltErr([0,2.5],[0,0], \n",
    "        attrs={'fmt':'-.r'},\n",
    "       Plot = False,\n",
    "        ax=ax,\n",
    "        \n",
    "      )\n",
    "\n",
    "#\n",
    "ax = PltErr( r,PhiRepul,\n",
    "         attrs={'fmt':'-','label':r'$r^{-12}$'},\n",
    "        Plot = False,\n",
    "        ax = ax,\n",
    "        \n",
    "       )\n",
    "#\n",
    "PltErr( r,PhiAttr,\n",
    "        xlim=(0.5,2.0),\n",
    "        ylim=(-4,4),\n",
    "        attrs={'fmt':'-','label':r'$-r^{-6}$'},\n",
    "        xstr='$r$',\n",
    "        ystr='$E^{LJ}$',\n",
    "        Plot = True,\n",
    "        ax = ax,\n",
    "        \n",
    "        legend=True,\n",
    "       )\n",
    "\n",
    "\n",
    "\n",
    "\n"
   ]
  },
  {
   "cell_type": "markdown",
   "id": "a09fe0f3",
   "metadata": {},
   "source": [
    "# Q3\n",
    "* how would you make the LJ potential longer-ranged (i.e. longer attractive tail)? Make relevant plots if you can.\n",
    "* how about making it stiffer (i.e. steeper repulsion)?"
   ]
  },
  {
   "cell_type": "code",
   "execution_count": 10,
   "id": "d418ea87",
   "metadata": {},
   "outputs": [
    {
     "data": {
      "image/png": "[encoded data removed]",
      "text/plain": [
       "<Figure size 288x288 with 1 Axes>"
      ]
     },
     "metadata": {
      "needs_background": "light"
     },
     "output_type": "display_data"
    },
    {
     "data": {
      "text/plain": [
       "<AxesSubplot:xlabel='$r$', ylabel='$E^{LJ}$'>"
      ]
     },
     "execution_count": 10,
     "metadata": {},
     "output_type": "execute_result"
    }
   ],
   "source": [
    "def ljPotential_ab(rij,sigma,epsilon, a=12,b=6):\n",
    "    '''\n",
    "    12-6 lj potential\n",
    "    '''\n",
    "    assert sigma != 0.0, 'sigma = 0.0!'\n",
    "    #--- non-dimensionalize r\n",
    "    rinv = sigma / rij\n",
    "    \n",
    "    rsq = rinv * rinv\n",
    "    r6 = rsq * rsq * rsq\n",
    "    r12 = r6 * r6\n",
    "    \n",
    "    return 4.0*epsilon*(rinv**a - rinv**b)\n",
    "\n",
    "\n",
    "\n",
    "#--- lj potential\n",
    "phi12_4 = ljPotential_ab(r,sigma,epsilon,b=4)\n",
    "phi12_2 = ljPotential_ab(r,sigma,epsilon,b=2)\n",
    "\n",
    "#--- plot\n",
    "ax = PltErr(r,phi, \n",
    "        attrs={'fmt':'-','label':'$lj12-6$'},\n",
    "       Plot = False,\n",
    "        \n",
    "      )\n",
    "\n",
    "ax = PltErr( r,phi12_4,\n",
    "         attrs={'fmt':'-','label':r'$lj12-4$'},\n",
    "        Plot = False,\n",
    "        ax = ax,\n",
    "        \n",
    "       )\n",
    "#\n",
    "PltErr( r,phi12_2,\n",
    "        xlim=(0.5,2.5),\n",
    "        ylim=(-4,4),\n",
    "        attrs={'fmt':'-','label':r'$lj12-2$'},\n",
    "        xstr='$r$',\n",
    "        ystr='$E^{LJ}$',\n",
    "        Plot = True,\n",
    "        ax = ax,\n",
    "        \n",
    "        legend=True,\n",
    "       )"
   ]
  },
  {
   "cell_type": "markdown",
   "id": "e75703ad",
   "metadata": {},
   "source": [
    "# Q4\n",
    "* the force is defined as $f=-\\partial_r E$. Implement this derivative in a python code and plot $f(r)$.\n"
   ]
  },
  {
   "cell_type": "code",
   "execution_count": null,
   "id": "0275a14e",
   "metadata": {},
   "outputs": [],
   "source": []
  }
 ],
 "metadata": {
  "kernelspec": {
   "display_name": "Python 3",
   "language": "python",
   "name": "python3"
  },
  "language_info": {
   "codemirror_mode": {
    "name": "ipython",
    "version": 3
   },
   "file_extension": ".py",
   "mimetype": "text/x-python",
   "name": "python",
   "nbconvert_exporter": "python",
   "pygments_lexer": "ipython3",
   "version": "3.9.5"
  }
 },
 "nbformat": 4,
 "nbformat_minor": 5
}
