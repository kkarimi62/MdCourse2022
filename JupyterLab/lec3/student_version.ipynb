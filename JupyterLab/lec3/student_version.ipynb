{
 "cells": [
  {
   "cell_type": "markdown",
   "id": "8cdbef30",
   "metadata": {},
   "source": [
    "# Lecture 1\n",
    "* simple calculation for 12-6 Lennard-Jones potential"
   ]
  },
  {
   "cell_type": "code",
   "execution_count": 8,
   "id": "a95e4dd5",
   "metadata": {},
   "outputs": [],
   "source": [
    "#--------------------------------\n",
    "#--- import system libraries\n",
    "#--------------------------------\n",
    "\n",
    "import numpy as np\n",
    "import matplotlib.pylab as plt\n",
    "import matplotlib\n",
    "import imp\n",
    "#--- user defined\n",
    "from utilFuncs import * \n",
    "\n",
    "#--- figure settings\n",
    "matplotlib.rcParams['text.usetex'] = True #--- comment tex stuff!"
   ]
  },
  {
   "cell_type": "markdown",
   "id": "d16275ca",
   "metadata": {},
   "source": [
    "* plot LJ potential"
   ]
  },
  {
   "cell_type": "code",
   "execution_count": 4,
   "id": "cca480f4",
   "metadata": {},
   "outputs": [
    {
     "data": {
      "image/png": "[encoded data removed]",
      "text/plain": [
       "<Figure size 288x288 with 1 Axes>"
      ]
     },
     "metadata": {
      "needs_background": "light"
     },
     "output_type": "display_data"
    },
    {
     "data": {
      "text/plain": [
       "<AxesSubplot:xlabel='$r$', ylabel='$E^{LJ}$'>"
      ]
     },
     "execution_count": 4,
     "metadata": {},
     "output_type": "execute_result"
    }
   ],
   "source": [
    "def ljPotential(rij,sigma,epsilon):\n",
    "    '''\n",
    "    12-6 lj potential\n",
    "    '''\n",
    "    assert sigma != 0.0, 'sigma = 0.0!'\n",
    "    #--- non-dimensionalize r\n",
    "    rinv = sigma / rij\n",
    "    \n",
    "    rsq = rinv * rinv\n",
    "    r6 = rsq * rsq * rsq\n",
    "    r12 = r6 * r6\n",
    "    \n",
    "    return 4.0*epsilon*(r12 - r6)\n",
    "\n",
    "\n",
    "#--- assign sigma and epsilon\n",
    "sigma = 1.0\n",
    "epsilon = 1.0\n",
    "\n",
    "#--- distance\n",
    "r=np.linspace(0.1,2.5,100)\n",
    "\n",
    "\n",
    "#--- lj potential\n",
    "phi = ljPotential(r,sigma,epsilon)\n",
    "\n",
    "PltErr(r,phi,\n",
    "      xlim=(0,2.5), #--- range in x\n",
    "      ylim=(-2,2), #--- range in y\n",
    "      attrs={'fmt':'-'}, #--- solid line\n",
    "      xstr='$r$', #--- x-axis label\n",
    "      ystr='$E^{LJ}$', #--- y-axis label\n",
    "      )"
   ]
  },
  {
   "cell_type": "code",
   "execution_count": 4,
   "id": "1667aca8",
   "metadata": {},
   "outputs": [
    {
     "data": {
      "image/png": "[encoded data removed]",
      "text/plain": [
       "<Figure size 288x288 with 1 Axes>"
      ]
     },
     "metadata": {
      "needs_background": "light"
     },
     "output_type": "display_data"
    },
    {
     "data": {
      "text/plain": [
       "<AxesSubplot:xlabel='$r$', ylabel='$E^{LJ}$'>"
      ]
     },
     "execution_count": 4,
     "metadata": {},
     "output_type": "execute_result"
    }
   ],
   "source": [
    "def ljPotential(rij,sigma,epsilon):\n",
    "    '''\n",
    "    12-6 lj potential\n",
    "    '''\n",
    "    assert sigma != 0.0, 'sigma = 0.0!'\n",
    "    #--- non-dimensionalize r\n",
    "    rinv = sigma / rij\n",
    "    \n",
    "    rsq = rinv * rinv\n",
    "    r6 = rsq * rsq * rsq\n",
    "    r12 = r6 * r6\n",
    "    \n",
    "    return 4.0*epsilon*(r12 - r6)\n",
    "\n",
    "\n",
    "#--- assign sigma and epsilon\n",
    "sigma = 1.0\n",
    "epsilon = 1.0\n",
    "\n",
    "#--- distance\n",
    "r=np.linspace(0.1,2.5,100)\n",
    "\n",
    "\n",
    "#--- lj potential\n",
    "phi = ljPotential(r,sigma,epsilon)\n",
    "\n",
    "PltErr(r,phi,\n",
    "      xlim=(0,2.5), #--- range in x\n",
    "      ylim=(-2,2), #--- range in y\n",
    "      attrs={'fmt':'-'}, #--- solid line\n",
    "      xstr='$r$', #--- x-axis label\n",
    "      ystr='$E^{LJ}$', #--- y-axis label\n",
    "      )"
   ]
  },
  {
   "cell_type": "markdown",
   "id": "120daf1b",
   "metadata": {},
   "source": [
    "# Q1\n",
    "* modify the above code to include the repulsive part of the potential only\n",
    "* plot the repulsive component"
   ]
  },
  {
   "cell_type": "markdown",
   "id": "28c2e31b",
   "metadata": {},
   "source": [
    "# Q2\n",
    "* redo the above part for the attractive tail."
   ]
  },
  {
   "cell_type": "markdown",
   "id": "a09fe0f3",
   "metadata": {},
   "source": [
    "# Q3\n",
    "* how would you make the LJ potential longer-ranged (i.e. longer attractive tail)? Make relevant plots if you can.\n",
    "* how about making it stiffer (i.e. steeper repulsion)?"
   ]
  },
  {
   "cell_type": "markdown",
   "id": "e75703ad",
   "metadata": {},
   "source": [
    "# Q4\n",
    "* the force is defined as $f=-\\partial_r E$. Implement this derivative in a python code and plot $f(r)$.\n"
   ]
  }
 ],
 "metadata": {
  "kernelspec": {
   "display_name": "Python 3",
   "language": "python",
   "name": "python3"
  },
  "language_info": {
   "codemirror_mode": {
    "name": "ipython",
    "version": 3
   },
   "file_extension": ".py",
   "mimetype": "text/x-python",
   "name": "python",
   "nbconvert_exporter": "python",
   "pygments_lexer": "ipython3",
   "version": "3.9.5"
  }
 },
 "nbformat": 4,
 "nbformat_minor": 5
}
